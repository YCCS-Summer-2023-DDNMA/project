{
  "nbformat": 4,
  "nbformat_minor": 0,
  "metadata": {
    "colab": {
      "provenance": [],
      "include_colab_link": true
    },
    "kernelspec": {
      "name": "python3",
      "display_name": "Python 3"
    },
    "language_info": {
      "name": "python"
    }
  },
  "cells": [
    {
      "cell_type": "markdown",
      "metadata": {
        "id": "view-in-github",
        "colab_type": "text"
      },
      "source": [
        "<a href=\"https://colab.research.google.com/github/YCCS-Summer-2023-DDNMA/project/blob/44-adding-one-thing-to-workflow-and-testing-JC/notebooks/workflow.ipynb\" target=\"_parent\"><img src=\"https://colab.research.google.com/assets/colab-badge.svg\" alt=\"Open In Colab\"/></a>"
      ]
    },
    {
      "cell_type": "markdown",
      "source": [
        "#Work Flow\n",
        "1. Create or Identify an issue that you will be working on - there should be a 1:many relationship between issues and pull requests.\n",
        "2. Each pull request should address a single feature so that code reviews can be compact, and so that it is easy to roll-back breaking changes (We will get to CI/CD by next week).\n",
        "3. The assumption is that all our code changes will be inside Colab notebooks (we will get to python library code by next week).\n",
        "4. In the git repo, go to issues tab and identify the issue number for the code changes you plan to make.  If there is no issuer,  create an issue and make sure it is approved in the sit up or planning meeting.\n",
        "5. in the main “code” view, create a branch with the name “userinitials-issue#-feature” (can be done in the issue on the right hand side on github)\n",
        "6. Go to the branch and open the notebook or create a new notebook in colab. Work on it.\n",
        "7. Automated testing (TBD)\n",
        "8. When you are ready to save your changes from colab, click “File->save in Github” and select the repo and branch, enter a commit message and save.\n",
        "9. Then when you are done with all your commits (you can have multiple commits), then go over to the repo and look at the entry for you latest commit and create a new pull request (this is a good place to create an issue for your pull request, if you didn’t create one earlier for your branch). Assign the pull request review to one of your colleagues.\n",
        "10. If the review is a notebook use ReviewNB, Link to ReviewNB docs [here](https://docs.reviewnb.com/).\n",
        "11. Once pull request is sumbitted wait for review, if reviewer comments \"nice\" and approves your merge request, then it is the responsiblity of the orginal creator of the pull request to merge it and solve any conflicts that it creates. If any complex conflicts arise, fix them, then return to step 9 for another review."
      ],
      "metadata": {
        "id": "ofEbovzSY05J"
      }
    }
  ]
}