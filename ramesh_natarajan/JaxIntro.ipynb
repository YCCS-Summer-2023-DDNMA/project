{
  "nbformat": 4,
  "nbformat_minor": 0,
  "metadata": {
    "colab": {
      "provenance": [],
      "toc_visible": true,
      "gpuType": "T4",
      "include_colab_link": true
    },
    "kernelspec": {
      "name": "python3",
      "display_name": "Python 3"
    },
    "language_info": {
      "name": "python"
    },
    "accelerator": "TPU"
  },
  "cells": [
    {
      "cell_type": "markdown",
      "metadata": {
        "id": "view-in-github",
        "colab_type": "text"
      },
      "source": [
        "<a href=\"https://colab.research.google.com/github/YCCS-Summer-2023-DDNMA/project/blob/main/ramesh_natarajan/JaxIntro.ipynb\" target=\"_parent\"><img src=\"https://colab.research.google.com/assets/colab-badge.svg\" alt=\"Open In Colab\"/></a>"
      ]
    },
    {
      "cell_type": "markdown",
      "source": [
        "# Introduction\n",
        "\n",
        "This introduction focuses on the key features of the Jax framework. \n",
        "\n",
        "No ML background is required or covered.\n",
        "\n",
        "I suggest you start by connecting to a hosted runtime.  Click the \"*connect*\" button on the top right hand corner. Once a connection is established you can click on the  \"*ram/disk*\" button that appears,  and see if you can change to a gpu or tpu runtime instance. \n",
        "\n",
        "Ideally you should be connected to a TPU instance.  However if you are unable to provision a TPU instances then the section on parallelization using **pmap** *should not* be executed.\n",
        "\n",
        "Date Updated: May 17, 2023\n",
        "Author: Ramesh Natarajan\n"
      ],
      "metadata": {
        "id": "oVCYrP05CyrX"
      }
    },
    {
      "cell_type": "markdown",
      "source": [
        "# Setup\n",
        "\n",
        "Import jax library, report version, check runtime (follow the instructions in the previous cells to make sure that if possible the runtime is a gpu or tpu enable instance) "
      ],
      "metadata": {
        "id": "cg_jduW0cIPU"
      }
    },
    {
      "cell_type": "code",
      "execution_count": 1,
      "metadata": {
        "colab": {
          "base_uri": "https://localhost:8080/"
        },
        "id": "BuMsawV7bs40",
        "outputId": "d8e215e6-8061-439d-fa45-bb1f4c30baae"
      },
      "outputs": [
        {
          "output_type": "stream",
          "name": "stderr",
          "text": [
            "WARNING:jax._src.lib.xla_bridge:No GPU/TPU found, falling back to CPU. (Set TF_CPP_MIN_LOG_LEVEL=0 and rerun for more info.)\n"
          ]
        },
        {
          "output_type": "stream",
          "name": "stdout",
          "text": [
            "jax version 0.3.25\n",
            "jax backend cpu\n"
          ]
        }
      ],
      "source": [
        "import jax\n",
        "import jax.numpy as jnp\n",
        "\n",
        "\n",
        "# version \n",
        "print(\"jax version {}\".format(jax.__version__))\n",
        "\n",
        "# Check the jax backend\n",
        "backend_platform = jax.lib.xla_bridge.get_backend().platform\n",
        "print(\"jax backend {}\".format(backend_platform ))\n",
        "\n",
        "if backend_platform == 'gpu':\n",
        "  !nvidia-smi\n",
        "\n"
      ]
    },
    {
      "cell_type": "markdown",
      "source": [
        "# Sections\n"
      ],
      "metadata": {
        "id": "jSR_OxjFXEUH"
      }
    },
    {
      "cell_type": "markdown",
      "source": [
        "## Jit and XLA\n",
        "\n",
        "Jit provides op fusion and other compiler optimizations targeted to backend gpu/tpu architectures, but which can speedup computations even on cpu's.  \n",
        "\n",
        "Python source is transformed to an intermediate representation (jaxpr) which is then compiler-optimized to generate the computation graph for fast execution.  \n",
        "\n",
        "Jit optimizable code should be written using pure functions (that is, functions should not have global state or any side effects)."
      ],
      "metadata": {
        "id": "SvkjrXvMH_Gh"
      }
    },
    {
      "cell_type": "code",
      "source": [
        "from jax import jit, make_jaxpr \n",
        "\n",
        "def f(x):\n",
        "  # Element-wise ops see a large benefit from fusion when jitted\n",
        "  return x * x * x * x\n",
        "\n",
        "x = jnp.ones((5000, 5000))\n",
        "%timeit  f(x) \n",
        "\n",
        "jit_f = jit(f)\n",
        "%timeit jit_f(x)  \n",
        " \n",
        "assert jnp.allclose(f(x), jit_f(x))"
      ],
      "metadata": {
        "colab": {
          "base_uri": "https://localhost:8080/"
        },
        "id": "S8MyN8wQH-BF",
        "outputId": "71c2f2b1-fea1-46d1-99c9-5a6f67532f97"
      },
      "execution_count": 2,
      "outputs": [
        {
          "output_type": "stream",
          "name": "stdout",
          "text": [
            "167 ms ± 18.5 ms per loop (mean ± std. dev. of 7 runs, 1 loop each)\n",
            "56.6 ms ± 13.2 ms per loop (mean ± std. dev. of 7 runs, 10 loops each)\n"
          ]
        }
      ]
    },
    {
      "cell_type": "markdown",
      "source": [
        "## Use only Pure functions (with no side effects)\n",
        "\n",
        "jit recompilation will take place for every new instance of input shape and dtype in the function arguments"
      ],
      "metadata": {
        "id": "_tesGb7v9dzc"
      }
    },
    {
      "cell_type": "code",
      "source": [
        "# function with side effects (print statement)\n",
        "def f(x):\n",
        "  print('x', x)\n",
        "  y = 2 * x\n",
        "  print('y', y)\n",
        "  return y\n",
        "\n",
        "# version without jit, repeated calls execute the same way\n",
        "print('non-jit version')\n",
        "print(\"first call:\")\n",
        "print('f', f(2))\n",
        "print(\"second call:\")\n",
        "print('f', f(2))\n",
        "\n",
        "# print the jaxpr\n",
        "print(\"\\njaxpr (notice the print calls are not part of the lambda)\")\n",
        "print (make_jaxpr(f)(2))\n",
        "\n",
        "# version without jit, repeated calls have different behavior\n",
        "print('\\njit version (jaxpr is converted to xla compiled code)')\n",
        "\n",
        "print(\"first call:\")\n",
        "print('f', jit(f)(2))\n",
        "print(\"second call:\")\n",
        "print('f', jit(f)(2))\n"
      ],
      "metadata": {
        "colab": {
          "base_uri": "https://localhost:8080/"
        },
        "id": "59Q8Ui1AJofk",
        "outputId": "c95914d5-a863-4cd2-d4c0-4e26cf44370e"
      },
      "execution_count": null,
      "outputs": [
        {
          "output_type": "stream",
          "name": "stdout",
          "text": [
            "non-jit version\n",
            "first call:\n",
            "x 2\n",
            "y 4\n",
            "f 4\n",
            "second call:\n",
            "x 2\n",
            "y 4\n",
            "f 4\n",
            "\n",
            " printing the jaxpr\n",
            "x Traced<ShapedArray(int32[], weak_type=True)>with<DynamicJaxprTrace(level=1/0)>\n",
            "y Traced<ShapedArray(int32[], weak_type=True)>with<DynamicJaxprTrace(level=1/0)>\n",
            "{ lambda ; a:i32[]. let b:i32[] = mul 2 a in (b,) }\n",
            "\n",
            "jit version\n",
            "first call:\n",
            "x Traced<ShapedArray(int32[], weak_type=True)>with<DynamicJaxprTrace(level=1/0)>\n",
            "y Traced<ShapedArray(int32[], weak_type=True)>with<DynamicJaxprTrace(level=1/0)>\n",
            "f 4\n",
            "second call:\n",
            "f 4\n"
          ]
        }
      ]
    },
    {
      "cell_type": "markdown",
      "source": [
        "\n",
        "## Numpy-compatible with some Gotchas\n",
        "Jax is Numpy (with some gotchas: asynchronous execution, array mutation, index out of bounds, NaNs, special casting rules)"
      ],
      "metadata": {
        "id": "zIlYf29obv8X"
      }
    },
    {
      "cell_type": "code",
      "source": [
        "import numpy as np\n",
        "\n",
        "nsz1 = 4000\n",
        "nsz2 = 4000\n",
        "\n",
        "x = np.arange(nsz1*nsz2, dtype=np.float32)\n",
        "x = x.reshape([nsz1, nsz2])\n",
        "\n",
        "print(\"\\n numpy execution\")\n",
        "%time result = (x @ x.T)\n",
        "\n",
        "import jax.numpy as jnp\n",
        "\n",
        "x = jnp.arange(nsz1*nsz2, dtype=jnp.float32)\n",
        "x = x.reshape([nsz1, nsz2])\n",
        "\n",
        "print(\"\\n jax.numpy blocking call\")\n",
        "%time  result =(x @ x.T).block_until_ready() # without the block method python will return asynchronously\n",
        "\n",
        "print(\"\\n jax.numpy asynchronous call (incorrect value)\")\n",
        "%time  result =(x @ x.T) # this will be much faster but nothing will be calculated"
      ],
      "metadata": {
        "colab": {
          "base_uri": "https://localhost:8080/"
        },
        "id": "7fWkUkQomgWv",
        "outputId": "a7a1d6dc-7f75-4910-d148-aaf3dcc852f8"
      },
      "execution_count": null,
      "outputs": [
        {
          "output_type": "stream",
          "name": "stdout",
          "text": [
            "\n",
            " numpy execution\n",
            "CPU times: user 992 ms, sys: 94.9 ms, total: 1.09 s\n",
            "Wall time: 1.03 s\n",
            "\n",
            " jax.numpy blocking call\n",
            "CPU times: user 8.01 ms, sys: 39.9 ms, total: 47.9 ms\n",
            "Wall time: 48 ms\n",
            "\n",
            " jax.numpy asynchronous call\n",
            "CPU times: user 478 µs, sys: 0 ns, total: 478 µs\n",
            "Wall time: 488 µs\n"
          ]
        }
      ]
    },
    {
      "cell_type": "code",
      "source": [
        "print(\"array mutation with numpy\")\n",
        "a = np.ones((10,))\n",
        "print(f\"original array: {a}\")\n",
        "a[:3] = 0\n",
        "print(f\"in-place modified array: {a}\")\n",
        "\n",
        "print(\"\\narray mutation not allowed with jax.numpy, new array created\")\n",
        "a2 = jnp.ones((10,))\n",
        "print(f\"original array: {a2}\")\n",
        "a2mod = a2.at[:3].set(0)\n",
        "print(f\"original array: {a2}\")\n",
        "print(f\"modified array: {a2mod}\")\n",
        "\n"
      ],
      "metadata": {
        "colab": {
          "base_uri": "https://localhost:8080/"
        },
        "id": "RD0CO5LFnAEx",
        "outputId": "3da64b01-7c17-406b-bd61-e7258d87eb96"
      },
      "execution_count": null,
      "outputs": [
        {
          "output_type": "stream",
          "name": "stdout",
          "text": [
            "array mutation with numpy\n",
            "original array: [1. 1. 1. 1. 1. 1. 1. 1. 1. 1.]\n",
            "in-place modified array: [0. 0. 0. 1. 1. 1. 1. 1. 1. 1.]\n",
            "\n",
            "array mutation not allowed with jax.numpy, new array created\n",
            "original array: [1. 1. 1. 1. 1. 1. 1. 1. 1. 1.]\n",
            "original array: [1. 1. 1. 1. 1. 1. 1. 1. 1. 1.]\n",
            "modified array: [0. 0. 0. 1. 1. 1. 1. 1. 1. 1.]\n"
          ]
        }
      ]
    },
    {
      "cell_type": "code",
      "source": [],
      "metadata": {
        "id": "NdkDx3w8YQdw"
      },
      "execution_count": null,
      "outputs": []
    },
    {
      "cell_type": "markdown",
      "source": [
        "## Batching and Vectorization (**vmap**)\n",
        "\n",
        "You can easily go from single to multiple batched examples with improved performance on GPU's"
      ],
      "metadata": {
        "id": "4TJANswx_0Tx"
      }
    },
    {
      "cell_type": "code",
      "source": [
        "from jax import vmap,\n",
        "\n",
        "# single example\n",
        "\n",
        "x = jnp.arange(1,5)\n",
        "w = jnp.arange(4,8) \n",
        "y = jnp.arange(10,11)\n",
        "\n",
        "print(f\"x:{x}, w:{w}, y:{y}\")\n",
        "\n",
        "def error(x, w, y):\n",
        "  return jnp.array(y - jnp.dot(x, w))\n",
        "\n",
        "err = error(x, w, y)\n",
        "\n",
        "print(f\"single example: {err}\")\n",
        "\n",
        "# multiplebatched example\n",
        "\n",
        "batchsz = 8\n",
        "\n",
        "xs = jnp.stack([x for _ in range(batchsz)])\n",
        "ws = jnp.stack([w*i for i in range(batchsz)])\n",
        "ys = jnp.stack([y for _ in range(batchsz)])\n",
        "\n",
        "\n",
        "from jax import vmap\n",
        "\n",
        "# vectorized along the batch dimension (first dimension by default)\n",
        "\n",
        "verr = vmap(error)(xs, ws, ys)\n",
        "print(f\"batched example:\\n{verr}\")\n",
        "\n",
        "# vectorized along the batch dimension with w not batched\n",
        "\n",
        "verr2 = vmap(error, in_axes = [0, None, 0])(xs, w, ys)\n",
        "print(f\"batched example with w not batch:\\n{verr2}\")"
      ],
      "metadata": {
        "colab": {
          "base_uri": "https://localhost:8080/"
        },
        "id": "hbjNsbds3H5_",
        "outputId": "e07a7538-238a-44f7-b8a6-f9c15beb6291"
      },
      "execution_count": null,
      "outputs": [
        {
          "output_type": "stream",
          "name": "stdout",
          "text": [
            "x:[1 2 3 4], w:[4 5 6 7], y:[10]\n",
            "single example: [-50]\n",
            "batched example:[[  10]\n",
            " [ -50]\n",
            " [-110]\n",
            " [-170]\n",
            " [-230]\n",
            " [-290]\n",
            " [-350]\n",
            " [-410]\n",
            " [-470]\n",
            " [-530]]\n",
            "batched example with w not batch:[[-50]\n",
            " [-50]\n",
            " [-50]\n",
            " [-50]\n",
            " [-50]\n",
            " [-50]\n",
            " [-50]\n",
            " [-50]\n",
            " [-50]\n",
            " [-50]]\n"
          ]
        }
      ]
    },
    {
      "cell_type": "markdown",
      "source": [],
      "metadata": {
        "id": "Itv-R-ZcSUtE"
      }
    },
    {
      "cell_type": "markdown",
      "source": [
        "## Parallelization (**pmap**)\n",
        "\n",
        "Similar to vectorization with vmap, parallelization can be performed with pmap (for example, this works on the TPU-v4 which has multiple processors, along with collective communication primitives optimized for TPU-v4 processor interconnect). The execution with pmap and vmap can be nested.  "
      ],
      "metadata": {
        "id": "IlOJWrPpSVNB"
      }
    },
    {
      "cell_type": "markdown",
      "source": [
        "## Pseudo Random Number Generation\n",
        "\n",
        "No global state for PRNG.  \n",
        "\n",
        "Use separate keys to ensure independent random variates that are consistent with out-of-order parallel execution. \n"
      ],
      "metadata": {
        "id": "bYWgMzroq__J"
      }
    },
    {
      "cell_type": "code",
      "source": [
        "from jax import random\n",
        "\n",
        "\n",
        "# the equivalent numpy code would have global state and the result will depend on the order of execution.\n",
        "def unif(key): \n",
        "  return jax.random.uniform(key,shape=(3,))\n",
        "\n",
        "def norm(key):\n",
        "  return jax.random.normal(key, shape=(3,))\n",
        "\n",
        "def foo(key): \n",
        "  subkey1, subkey2 = random.split(key, num=2) \n",
        "  a = unif(subkey1) \n",
        "  b =  norm(subkey2)\n",
        "  return a+b\n",
        "\n",
        "def bar(key): \n",
        "  subkey1, subkey2 = random.split(key, num=2) \n",
        "  b = norm(subkey2)\n",
        "  a = unif(subkey1)\n",
        "  return b+a\n",
        "\n",
        "key = random.PRNGKey(0)\n",
        "\n",
        "print(foo(key))\n",
        "print(bar(key))"
      ],
      "metadata": {
        "colab": {
          "base_uri": "https://localhost:8080/"
        },
        "id": "st8wU_Ywq93g",
        "outputId": "c21111be-9609-4ca8-bcd0-1e002629651d"
      },
      "execution_count": null,
      "outputs": [
        {
          "output_type": "stream",
          "name": "stdout",
          "text": [
            "[ 1.6931263 -0.5262135 -0.2938828]\n",
            "[ 1.6931263 -0.5262135 -0.2938828]\n"
          ]
        }
      ]
    },
    {
      "cell_type": "markdown",
      "source": [
        "## Higher-order derivatives (**grad, jacfwd, jacrev** etc)\n",
        "\n",
        "Easy to implement and makes use of tight Jax integration with autodiff"
      ],
      "metadata": {
        "id": "tx7vitxL_1LQ"
      }
    },
    {
      "cell_type": "code",
      "source": [
        "from jax import grad, value_and_grad, hessian, jacfwd, jacrev, jvp, vjp\n",
        "\n",
        "# higher order derivatives \n",
        "func = lambda x: x**3 + 2*x**2 - 3*x + 1\n",
        "\n",
        "f = func\n",
        "x = 0.0\n",
        "for i in range(5):\n",
        "  print(f\"derivative of order {i} at {x}: {f(x)}\")\n",
        "  f = grad(f)\n",
        "\n",
        "# partial derivatives\n",
        "\n",
        "func2  = lambda x, y: (x+1)**2 + (y-1)**2\n",
        "\n",
        "fx, fy = grad(func2, argnums= (0,1))(0.0,0.0)\n",
        "\n",
        "print(f\"gradients wrt x: {fx}, wrt y: {fy}\")\n",
        "\n",
        "# gradients of a multivariate scalar function\n",
        "\n",
        "func3 = lambda x, w: jnp.dot(x, w)\n",
        "\n",
        "sz = 5\n",
        "subkey1, subkey2 = random.split(key, num=2) \n",
        "w = jax.random.normal(subkey1, shape=(sz,))\n",
        "x = jax.random.normal(subkey2, shape=(sz,))\n",
        "\n",
        "v, g = value_and_grad(func3)(x, w)\n",
        "\n",
        "print(f\"w:{w}\")\n",
        "print(f\"value: {v}\")\n",
        "print(f\"gradient: {g}\")\n",
        "assert np.allclose(g, w)\n",
        "\n",
        "# jacobian of a a vector multivariate function\n",
        "\n",
        "func4 = lambda x, W : jnp.dot(W, x)\n",
        "\n",
        "szx = 5\n",
        "szy = 4\n",
        "subkey1, subkey2 = random.split(key, num=2) \n",
        "W = jax.random.normal(subkey1,shape=(szy, szx))\n",
        "x = jax.random.normal(subkey2, shape=(szx,))\n",
        "Jf = jacfwd(func4)(x, W)\n",
        "Jr = jacrev(func4)(x, W)\n",
        "assert jnp.allclose(Jf, Jr)\n",
        "assert jnp.allclose(Jf, W)\n",
        "\n",
        "# jacobian-vector products and vector-jacobian products \n",
        "\n",
        "szx = 5\n",
        "szy = 4\n",
        "subkey1, subkey2, subkey3 = random.split(key, num=3) \n",
        "W = jax.random.normal(subkey1,shape=(szy, szx))\n",
        "x = jax.random.normal(subkey2, shape=(szx,))\n",
        "u = jax.random.normal(subkey3, shape=(szy,))\n",
        "\n",
        "func5 = lambda x: jnp.dot(W,x)\n",
        "\n",
        "Jf = jacfwd(func5)(x)\n",
        "assert jnp.allclose(Jf, W)\n",
        "tmp1 = jnp.dot(u.T, Jf)\n",
        "print(tmp1)\n",
        "(val, jvp_fun) = vjp(func5, x)\n",
        "tmp2 = jvp_fun(u)[0]\n",
        "print(tmp2)\n",
        "\n",
        "assert jnp.allclose(tmp1, tmp2)\n"
      ],
      "metadata": {
        "colab": {
          "base_uri": "https://localhost:8080/"
        },
        "id": "-cD_4PC3vUlN",
        "outputId": "552fb2be-b848-4994-8e31-d353c2f75da4"
      },
      "execution_count": null,
      "outputs": [
        {
          "output_type": "stream",
          "name": "stdout",
          "text": [
            "[-1.2215806  -0.42417204 -0.02216347 -2.0033326  -1.072354  ]\n",
            "[-1.2215806  -0.42417204 -0.02216347 -2.0033326  -1.072354  ]\n"
          ]
        }
      ]
    },
    {
      "cell_type": "markdown",
      "source": [
        "## multidevice parallelism (**pmap**)"
      ],
      "metadata": {
        "id": "T8PJVUEU_1O4"
      }
    },
    {
      "cell_type": "markdown",
      "source": [
        "## Flexible containers for data structures (**pytrees**)\n",
        "\n",
        "A Pytree is a container that recursively contains other Pytrees. Containers can be lists, tuples, and dicts.  The leaves of a Pytree are individual values/arrays used to store and access the parameters of machine learning models in a hierarchical structured form, that can easily be combined with Jax functions."
      ],
      "metadata": {
        "id": "KmMoadav_1SQ"
      }
    },
    {
      "cell_type": "code",
      "metadata": {
        "colab": {
          "base_uri": "https://localhost:8080/"
        },
        "id": "h1EllUvlJ1NW",
        "outputId": "1486d11a-dcd4-4d46-ae40-a4fa073274d5"
      },
      "source": [
        "from jax import tree_util\n",
        "\n",
        "# create a  pytree\n",
        "\n",
        "print(\"\\ncreate a pytree\")\n",
        "tree1 = [jnp.array([10, 11, 12])]\n",
        "tree2 = [1, {\"k1\": 2, \"k2\": (3, 4)}, 5]\n",
        "tree = {\"l1\": tree1, \"l2\": tree2}\n",
        "print(f\"tree1: {tree1} \\ntree2:{tree2} \\ntree3: {tree}\")\n",
        "leaves = tree_util.tree_leaves(tree)\n",
        "print('num leaves', len(leaves))\n",
        "print(leaves)\n",
        "\n",
        "# apply a function to all leaf elements in the tree\n",
        "\n",
        "print(\"\\nmodify: map function to all elements of a pytree)\")\n",
        "tree_mod = tree_util.tree_map(lambda x: jax.numpy.add(x,1), tree1)\n",
        "print(f\"\\nmodified tree: {tree_mod}\")\n",
        "\n",
        "# combine 2 conforming trees\n",
        "\n",
        "print(\"combine: map function to combine 2 pytrees)\")\n",
        "\n",
        "tree_comb = tree_util.tree_map(lambda x,y: jax.numpy.add(x, y), tree1, tree_mod)\n",
        "print(f\"\\ncombined tree: {tree_comb}\")\n",
        "\n",
        "# flattening and unflattening\n",
        "\n",
        "print(\"\\nflattening and unflattening pytrees\")\n",
        "tree1 = [1, {\"k1\": 2, \"k2\": (3, 4)}, 5]\n",
        "print(f\"initial tree: {tree1}\")\n",
        "leaves, treedef = jax.tree_util.tree_flatten(tree1)\n",
        "print(f\"leaves: {leaves} \\ntreedef: {treedef}\")\n",
        "print(treedef)\n",
        "\n",
        "tree2 = jax.tree_util.tree_unflatten(treedef, leaves)\n",
        "print(f\"final tree: {tree1}\")"
      ],
      "execution_count": null,
      "outputs": [
        {
          "output_type": "stream",
          "name": "stdout",
          "text": [
            "\n",
            "create a pytree\n",
            "tree1: [Array([10, 11, 12], dtype=int32)] \n",
            "tree2:[1, {'k1': 2, 'k2': (3, 4)}, 5] \n",
            "tree3: {'l1': [Array([10, 11, 12], dtype=int32)], 'l2': [1, {'k1': 2, 'k2': (3, 4)}, 5]}\n",
            "num leaves 6\n",
            "[Array([10, 11, 12], dtype=int32), 1, 2, 3, 4, 5]\n",
            "\n",
            "modify: map function to all elements of a pytree)\n",
            "\n",
            "modified tree: [Array([11, 12, 13], dtype=int32)]\n",
            "combine: map function to combine 2 pytrees)\n",
            "\n",
            "combined tree: [Array([21, 23, 25], dtype=int32)]\n",
            "\n",
            "flattening and unflattening pytrees\n",
            "starting tree: [1, {'k1': 2, 'k2': (3, 4)}, 5]\n",
            "leaves: [1, 2, 3, 4, 5] \n",
            "treedef: PyTreeDef([*, {'k1': *, 'k2': (*, *)}, *])\n",
            "PyTreeDef([*, {'k1': *, 'k2': (*, *)}, *])\n",
            "[1, {'k1': 2, 'k2': (3, 4)}, 5]\n"
          ]
        }
      ]
    },
    {
      "cell_type": "markdown",
      "source": [
        "## Distrax\n",
        "\n",
        "Distrax is a Jax-native implementation of Tensorflow Probability Distributions.\n",
        "\n",
        "It provides a standard **Distribution** api for a number of built-in probability distributions, as well as composition and extensibility to new custom probability distributions."
      ],
      "metadata": {
        "id": "vskL70zvjmbF"
      }
    },
    {
      "cell_type": "code",
      "source": [
        "%%capture\n",
        "!pip install distrax"
      ],
      "metadata": {
        "id": "2KOHsyRfjRH0"
      },
      "execution_count": null,
      "outputs": []
    },
    {
      "cell_type": "code",
      "source": [
        "import distrax\n",
        "\n",
        "sz = 1000\n",
        "\n",
        "print('normal distribution with mu = 0, sigma = 1')\n",
        "\n",
        "key = jax.random.PRNGKey(1234)\n",
        "mu = 0.0\n",
        "sigma = 1.0\n",
        "\n",
        "dist_normal = distrax.Normal(mu, sigma)\n",
        "\n",
        "samples = dist_normal.sample(seed=key, sample_shape= sz)\n",
        "print(f\"sample size: {jnp.shape(samples)[0]}\")\n",
        "print(f\"sample mean: {jnp.mean(samples)}\")\n",
        "print(f\"sample var: {jnp.var(samples)}\")\n",
        "print(f\"sample neg log prob: {-jnp.mean(dist_normal.log_prob(samples))}\")\n",
        "\n",
        "print(\"\\nplot histogram/density\")\n",
        "sns.displot(samples, kind=\"kde\", height=2.5, aspect = 1.2).set(xlabel=\"\", ylabel=\"density\", xlim=(-4, 4), title= \"sample density plot\")\n",
        "plt.show()\n",
        "\n",
        "\n",
        "values = jnp.arange(-3.0, 3.0, 0.1)\n",
        "pdf = dist_normal.prob(values)\n",
        "cdf = dist_normal.cdf(values)\n",
        "\n",
        "sns.set(rc = {'figure.figsize':(2.5, 2.5)})\n",
        "print(\"\\nplot pdf\")\n",
        "sns.lineplot(x=values, y=pdf).set(xlabel=\"\", ylabel=\"pdf\", xlim=(-4, 4), title= \"pdf\")\n",
        "plt.show()\n",
        "\n",
        "print(\"\\nplot cdf\")\n",
        "sns.lineplot(x=values, y=cdf).set(xlabel=\"\", ylabel=\"pdf\", xlim=(-4, 4), title= \"cdf\")\n",
        "plt.show()\n"
      ],
      "metadata": {
        "colab": {
          "base_uri": "https://localhost:8080/",
          "height": 942
        },
        "id": "LnpbU7zbig4n",
        "outputId": "d4d3b265-fcd9-4fd6-c566-3a62712f43a5"
      },
      "execution_count": null,
      "outputs": [
        {
          "output_type": "stream",
          "name": "stdout",
          "text": [
            "normal distribution with mu = 0, sigma = 1\n",
            "sample size: 1000\n",
            "sample mean: 0.003301121760159731\n",
            "sample var: 0.9441421031951904\n",
            "sample neg log prob: 1.3910150527954102\n",
            "plot histogram/density\n"
          ]
        },
        {
          "output_type": "display_data",
          "data": {
            "text/plain": [
              "<Figure size 300x250 with 1 Axes>"
            ],
            "image/png": "[encoded data removed]"
          },
          "metadata": {}
        },
        {
          "output_type": "stream",
          "name": "stdout",
          "text": [
            "plot pdf\n"
          ]
        },
        {
          "output_type": "display_data",
          "data": {
            "text/plain": [
              "<Figure size 250x250 with 1 Axes>"
            ],
            "image/png": "[encoded data removed]"
          },
          "metadata": {}
        },
        {
          "output_type": "stream",
          "name": "stdout",
          "text": [
            "plot cdf\n"
          ]
        },
        {
          "output_type": "display_data",
          "data": {
            "text/plain": [
              "<Figure size 250x250 with 1 Axes>"
            ],
            "image/png": "[encoded data removed]"
          },
          "metadata": {}
        }
      ]
    },
    {
      "cell_type": "markdown",
      "source": [],
      "metadata": {
        "id": "plDZhuMjj8qw"
      }
    },
    {
      "cell_type": "markdown",
      "source": [
        "##Optax\n",
        "\n",
        "Optax is a gradient processing and optimization library for JAX.  \n",
        "\n",
        "It provides a consistent api to several well known optimizers, such as ADAM, RMSProp, SGD etc. "
      ],
      "metadata": {
        "id": "C8wLm2Pij9kT"
      }
    },
    {
      "cell_type": "code",
      "source": [
        "%%capture\n",
        "\n",
        "!pip install optax"
      ],
      "metadata": {
        "id": "SJkVgWOzkHAe"
      },
      "execution_count": null,
      "outputs": []
    },
    {
      "cell_type": "code",
      "source": [
        "from jax import random\n",
        "from jax import numpy as jnp\n",
        "import optax\n",
        "\n",
        "jnp.set_printoptions(precision=3)\n",
        "\n",
        "key = jax.random.PRNGKey(1234)\n",
        "\n",
        "m = 5 \n",
        "params = {'w': random.normal(key, (m,))}\n",
        "n = 30\n",
        "subkey1, subkey2, subkey3 = jax.random.split(key, num=3)\n",
        "xs = random.normal(subkey1,(n, m))\n",
        "\n",
        "key = jax.random.split(key)\n",
        "ys = jnp.add(jnp.dot(xs, params['w']),\n",
        "             0.1*random.normal(subkey2, (n,)))\n",
        "\n",
        "\n",
        "compute_loss_single = lambda params, x, y: optax.l2_loss(params['w'].dot(x), y)\n",
        "compute_loss = lambda params, xs, ys: jnp.sum(jax.vmap(compute_loss_single, in_axes=[None, 0, 0])(params, xs, ys))\n",
        "\n",
        "print('original params ', params)\n",
        "print('original loss ', compute_loss(params, xs, ys))\n",
        "\n",
        "# create a stateful optimizer. \n",
        "\n",
        "optimizer = optax.adam(learning_rate=0.1)\n",
        "\n",
        "\n",
        "params_init = {'w': random.normal(subkey3, (m,))}\n",
        "opt_state = optimizer.init(params_init)\n",
        "print('initial params ', params_init)\n",
        "print('initial loss ', compute_loss(params_init, xs, ys))\n",
        "\n",
        "# A simple update loop.\n",
        "for iter in range(1000):\n",
        "  grads = jax.grad(compute_loss)(params, xs, ys)\n",
        "  updates, opt_state = optimizer.update(grads, opt_state)\n",
        "  params = optax.apply_updates(params, updates)\n",
        "  if iter % 5 == 0:\n",
        "    print(f\"loss at iteration {iter}:  {compute_loss(params, xs, ys)})\n",
        "\n",
        "\n",
        "print('final params', params)\n",
        "print('final loss ', compute_loss(params, xs, ys))\n",
        "# print(params)\n",
        "# assert jnp.allclose(params, target_params), \\\n",
        "# 'Optimization should retrive the target params used to generate the data.'"
      ],
      "metadata": {
        "colab": {
          "base_uri": "https://localhost:8080/"
        },
        "id": "m8tKdz7o_rS0",
        "outputId": "c6c58185-008b-4fd3-bccd-c346b659507e"
      },
      "execution_count": null,
      "outputs": [
        {
          "output_type": "stream",
          "name": "stdout",
          "text": [
            "original params  {'w': Array([ 0.907, -0.945,  0.082, -1.844,  0.46 ], dtype=float32)}\n",
            "original loss  0.11493597\n",
            "initial params  {'w': Array([ 0.222, -2.844, -0.238, -0.578, -0.052], dtype=float32)}\n",
            "initial loss  63.728706\n",
            "final params {'w': Array([ 0.893, -0.941,  0.063, -1.813,  0.463], dtype=float32)}\n",
            "final loss  0.0988175\n"
          ]
        }
      ]
    },
    {
      "cell_type": "markdown",
      "source": [
        "# References\n",
        "\n",
        "\n",
        "\n",
        "1. K. Murphy, Introduction to Jax. [link](https://colab.research.google.com/github/probml/probml-notebooks/blob/main/notebooks/jax_intro.ipynb)\n",
        "2. A. Steiner and K. Oliver, Jax - High-Performance ML Research [link](https://colab.research.google.com/drive/1jKgWswYZcoZs-f3a0ixdjLNioLN4Dud1)\n",
        "\n"
      ],
      "metadata": {
        "id": "WuQfi9nLd4EH"
      }
    }
  ]
}