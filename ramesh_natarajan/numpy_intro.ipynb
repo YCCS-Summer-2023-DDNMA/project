{
  "nbformat": 4,
  "nbformat_minor": 0,
  "metadata": {
    "colab": {
      "provenance": [],
      "authorship_tag": "ABX9TyO5IVTP5Bxaw7NLGwwaxmU2",
      "include_colab_link": true
    },
    "kernelspec": {
      "name": "python3",
      "display_name": "Python 3"
    },
    "language_info": {
      "name": "python"
    }
  },
  "cells": [
    {
      "cell_type": "markdown",
      "metadata": {
        "id": "view-in-github",
        "colab_type": "text"
      },
      "source": [
        "<a href=\"https://colab.research.google.com/github/YCCS-Summer-2023-DDNMA/project/blob/main/ramesh_natarajan/numpy_intro.ipynb\" target=\"_parent\"><img src=\"https://colab.research.google.com/assets/colab-badge.svg\" alt=\"Open In Colab\"/></a>"
      ]
    },
    {
      "cell_type": "code",
      "execution_count": 1,
      "metadata": {
        "colab": {
          "base_uri": "https://localhost:8080/"
        },
        "id": "Qs6RAOFx9-UT",
        "outputId": "45872fd2-44f4-4353-bd8c-c0b560d7e94d"
      },
      "outputs": [
        {
          "output_type": "stream",
          "name": "stdout",
          "text": [
            "Python 3.10.12\n"
          ]
        }
      ],
      "source": [
        "!python --version"
      ]
    },
    {
      "cell_type": "markdown",
      "source": [
        "First import the numpy package and check its version number"
      ],
      "metadata": {
        "id": "IboJFAFf-1-m"
      }
    },
    {
      "cell_type": "code",
      "source": [
        "import numpy as np\n",
        "np.__version__"
      ],
      "metadata": {
        "colab": {
          "base_uri": "https://localhost:8080/",
          "height": 35
        },
        "id": "MPzEOOPP-c6y",
        "outputId": "64c3c07c-17a6-4cbf-a532-b1e1325274e6"
      },
      "execution_count": 4,
      "outputs": [
        {
          "output_type": "execute_result",
          "data": {
            "text/plain": [
              "'1.22.4'"
            ],
            "application/vnd.google.colaboratory.intrinsic+json": {
              "type": "string"
            }
          },
          "metadata": {},
          "execution_count": 4
        }
      ]
    },
    {
      "cell_type": "markdown",
      "source": [],
      "metadata": {
        "id": "71FmrLFJ0KX3"
      }
    },
    {
      "cell_type": "markdown",
      "metadata": {
        "id": "f-Zv3f7LL9hc"
      },
      "source": [
        "Numpy array are multidimensional arrays (e.g. 1-d, 2-d, 3-d etc.). A 1-d array is similar to a list or tuple, a 2-d array is similar to a matrix or a list of lists, etc.; however unlike python lists numpy arrays are stored contiguosly in memory for faster processing of array computations.\n",
        "\n",
        "We will mostly be interested in Numpy arrays that store floats or integers for numerical computations.\n",
        "\n",
        "\n",
        "Numpy array values are mutable and can be accessed and modified by indices or index ranges, similar to the case with Python lists, list of lists etc.;  however, unlike Python lists, numpy arrays values must have the same type. \n",
        "\n",
        "A numpy array object has 3 properties:\n",
        "\n",
        "*   ndim - which is the number of array dimensions \n",
        "*   shape - which is a tuple containing the size of each dimension in order\n",
        "*   dtype - which is type of the array values (e.g. float32)\n",
        "\n",
        "\n",
        "When printed, values of the numpy array are displayed with the index moving fastest from the last index to the first index.\n",
        "\n",
        "We demonstrate these properties below."
      ]
    },
    {
      "cell_type": "code",
      "source": [
        "# initialize 1-d numpy array from a list\n",
        "\n",
        "a = np.array([x for x in range(10)])\n",
        "print(f\"the values of a are : \\n {a}\")\n",
        "print(f\"ndim  of a = {a.ndim}\")\n",
        "print(f\"shape of a = {a.shape}\")\n",
        "print(f\"type of values of a = {a.dtype}\")"
      ],
      "metadata": {
        "colab": {
          "base_uri": "https://localhost:8080/"
        },
        "id": "CCd1r_ECoYbO",
        "outputId": "f34a0c6f-7498-4d68-df3f-eaa1b704646e"
      },
      "execution_count": 24,
      "outputs": [
        {
          "output_type": "stream",
          "name": "stdout",
          "text": [
            "the values of a are : \n",
            " [0 1 2 3 4 5 6 7 8 9]\n",
            "ndim  of a = 1\n",
            "shape of a = (10,)\n",
            "type of values of a = int64\n"
          ]
        }
      ]
    },
    {
      "cell_type": "code",
      "source": [
        "# initialize a 2-d array from a list \n",
        "b = np.array([[i+j for j in range(5)] for i in range(0,30,10)])\n",
        "print(f\"the values of b are (second index moving fastest) : \\n {b}\")\n",
        "print(f\"ndim  of b = {b.ndim}\")\n",
        "print(f\"shape of b = {b.shape}\")\n",
        "print(f\"type of values of b = {b.dtype}\")"
      ],
      "metadata": {
        "colab": {
          "base_uri": "https://localhost:8080/"
        },
        "id": "NJPTUfrsqSVx",
        "outputId": "826684b6-3d9f-48e0-d432-8d0242e937df"
      },
      "execution_count": 27,
      "outputs": [
        {
          "output_type": "stream",
          "name": "stdout",
          "text": [
            "the values of b are : \n",
            " [[ 0  1  2  3  4]\n",
            " [10 11 12 13 14]\n",
            " [20 21 22 23 24]\n",
            " [30 31 32 33 34]\n",
            " [40 41 42 43 44]]\n",
            "ndim  of b = 2\n",
            "shape of b = (5, 5)\n",
            "type of values of b = int64\n"
          ]
        }
      ]
    },
    {
      "cell_type": "markdown",
      "source": [
        "Special numpy arrays of different shapes can be created (all zeros, all ones, all constant).  The shapes  of these arrays can be derived or inferred from the shapes of other numpy arrays (using the corresponding _like method as shown below).  The default dtype can also be overriden when creating arrays."
      ],
      "metadata": {
        "id": "s5yerTFJ0Uvv"
      }
    },
    {
      "cell_type": "code",
      "source": [
        "# all zeros of a given shape\n",
        "a = np.zeros([2,3])\n",
        "print(f\"a: {a}\")\n",
        "\n",
        "# all ones of a given shape\n",
        "b = np.ones([2,3])\n",
        "print(f\"b {b}\")\n",
        "\n",
        "# all constant values of a given shape\n",
        "c = np.full([2,3], 2.0)\n",
        "print(f\"c: {c}\")\n",
        "\n",
        "d = np.zeros_like(c, dtype=int)\n",
        "print(f\"d: {d}\")"
      ],
      "metadata": {
        "colab": {
          "base_uri": "https://localhost:8080/"
        },
        "id": "n1i8Pwuz0f8r",
        "outputId": "72800f71-afcf-4b14-d28b-9ddd75a9890d"
      },
      "execution_count": 35,
      "outputs": [
        {
          "output_type": "stream",
          "name": "stdout",
          "text": [
            "a: [[0. 0. 0.]\n",
            " [0. 0. 0.]]\n",
            "b [[1. 1. 1.]\n",
            " [1. 1. 1.]]\n",
            "c: [[2. 2. 2.]\n",
            " [2. 2. 2.]]\n",
            "d: [[0 0 0]\n",
            " [0 0 0]]\n"
          ]
        }
      ]
    },
    {
      "cell_type": "markdown",
      "source": [
        "Random number generation basically involves creating a pseudo random number generator object (default_rng) and calling methods on it to obtain random number from various distributions.   \n",
        "\n",
        "You should set the seed in the call to default_rng to get reproducible random numbers.  If seed is not set, then some value for it will be obtained from the operating system and it will be nondeterministic.   Not setting the seed is a common reason for non-reproducibility issues in machine learning programs.\n"
      ],
      "metadata": {
        "id": "__KRu9eC7Szm"
      }
    },
    {
      "cell_type": "code",
      "source": [
        "# let look at the case when no seed is set - create 2 rng objects\n",
        "\n",
        "rng1 = np.random.default_rng()\n",
        "rng2 = np.random.default_rng()\n",
        "\n",
        "# generate a set of 5 random integers between 0 and 10 and compare\n",
        "\n",
        "randint1 = rng1.integers(low=0, high=10, size=5)\n",
        "randint2 = rng1.integers(low=0, high=10, size=5)\n",
        "\n",
        "print(\"different seeds: randint1 and randint2 will be different\")\n",
        "print(f\"randint1:\\n  {randint1}\")\n",
        "print(f\"randint2:\\n  {randint2}\")\n",
        "\n",
        "# lets try this with the same seed  \n",
        "\n",
        "seed = 1234\n",
        "rng3 = np.random.default_rng(seed=seed)\n",
        "rng4 = np.random.default_rng(seed=seed)\n",
        "\n",
        "# generate a set of 5 random integers between 0 and 10 and compare\n",
        "\n",
        "randint3 = rng3.integers(low=0, high=10, size=5)\n",
        "randint4 = rng4.integers(low=0, high=10, size=5)\n",
        "\n",
        "print(\"same seeeds: randint3 and randint2 will be different\")\n",
        "print(f\"randint3:\\n  {randint3}\")\n",
        "print(f\"randint4:\\n  {randint4}\")"
      ],
      "metadata": {
        "colab": {
          "base_uri": "https://localhost:8080/"
        },
        "id": "UHbJRpsw7PbN",
        "outputId": "03a7efea-f6e8-465f-e96b-baf21825d231"
      },
      "execution_count": 38,
      "outputs": [
        {
          "output_type": "stream",
          "name": "stdout",
          "text": [
            "randint1 and randint2 will be different\n",
            "randint1: [6 4 6 3 5]\n",
            "randint2: [7 9 9 6 3]\n",
            "randint3 and randint2 will be different\n",
            "randint3: [9 9 9 3 1]\n",
            "randint4: [9 9 9 3 1]\n"
          ]
        }
      ]
    },
    {
      "cell_type": "markdown",
      "source": [
        "You can extract individual elements or slices & dices of numpy arrays using index notation.  These extracted elements or slices may have a lower rank depending on the extraction.\n",
        "\n",
        "Note that using array indexing, positive indices are counted from the from and negative indices are counted from the back.  Similarly positive steps go forward while negative steps go backward. "
      ],
      "metadata": {
        "id": "9q3eBfRG_puh"
      }
    },
    {
      "cell_type": "code",
      "source": [
        "# for slicing and dicing, generate a random 3x3x3 array\n",
        "rng = np.random.default_rng(1234)\n",
        "\n",
        "a = np.random.uniform(low = -1.0, high = 1.0, size = (3,3,3))\n",
        "print(f\"nontrivial a:\\n {a}\")\n",
        "\n",
        "# print the value in a given position\n",
        "print(f\"a[0,0,0]: \\n {a[0,0,0]}\")\n",
        "print(f\"a[-1,-1,-1]: \\n {a[-1,-1,-1]}\")\n",
        "\n",
        "# print all values in the slice (0, :, :)\n",
        "print(f\"a[0,:, :]:\\n {a[0,:,:]}\")\n",
        "\n",
        "# print all values in the slice (-1, :, :)\n",
        "print(f\"a[-1,:, :]:\\n {a[-1,:,:]}\")\n",
        "\n",
        "# print all values in the dice (0, 0:2, 0:2)\n",
        "print(f\"a[0, 0:2, 0:2]:\\n {a[0, 0:2, 0:2]}\")\n",
        "\n"
      ],
      "metadata": {
        "colab": {
          "base_uri": "https://localhost:8080/"
        },
        "id": "d1UoG4OeAY9z",
        "outputId": "100b97dc-8723-46c3-f5a7-17406be21c10"
      },
      "execution_count": 11,
      "outputs": [
        {
          "output_type": "stream",
          "name": "stdout",
          "text": [
            "nontrivial a:\n",
            " [[[ 0.43859803 -0.34896337  0.90079142]\n",
            "  [-0.13148565  0.66358014  0.27385787]\n",
            "  [-0.88819928  0.44367567  0.50913955]]\n",
            "\n",
            " [[ 0.17518658  0.43279415 -0.91064623]\n",
            "  [ 0.24505127  0.71801429  0.30185831]\n",
            "  [-0.39833683 -0.99293906  0.63498701]]\n",
            "\n",
            " [[-0.17368381  0.10584973 -0.13486481]\n",
            "  [-0.74839853  0.3311068  -0.5903107 ]\n",
            "  [ 0.99317435  0.24681786  0.7357125 ]]]\n",
            "a[0,0,0]: \n",
            " 0.43859803246686613\n",
            "a[-1,-1,-1]: \n",
            " 0.7357124989051038\n",
            "a[0,:, :]:\n",
            " [[ 0.43859803 -0.34896337  0.90079142]\n",
            " [-0.13148565  0.66358014  0.27385787]\n",
            " [-0.88819928  0.44367567  0.50913955]]\n",
            "a[-1,:, :]:\n",
            " [[-0.17368381  0.10584973 -0.13486481]\n",
            " [-0.74839853  0.3311068  -0.5903107 ]\n",
            " [ 0.99317435  0.24681786  0.7357125 ]]\n",
            "a[0, 0:2, 0:2]:\n",
            " [[ 0.43859803 -0.34896337]\n",
            " [-0.13148565  0.66358014]]\n"
          ]
        }
      ]
    },
    {
      "cell_type": "markdown",
      "source": [
        "You can flatten multi-dimensional arrays to a 1-d array, choosing to vary the order of the elements from the first index to the last (row order or \"c-style') or the last index to the first (column order or 'fortran-style').\n",
        "\n",
        "Similarly the flattened arrays can be reshaped back to the original arrays"
      ],
      "metadata": {
        "id": "9zk-l6ymK5Xp"
      }
    },
    {
      "cell_type": "code",
      "source": [
        "from re import A\n",
        "# for slicing and dicing, generate a random 3x3x3 array\n",
        "rng = np.random.default_rng(1234)\n",
        "\n",
        "a = np.random.uniform(low = -1.0, high = 1.0, size = (3,3,3))\n",
        "print(f\"original a:\\n {a}\")\n",
        "\n",
        "# save the shape\n",
        "ashape = a.shape\n",
        "\n",
        "# flatten the array by row and col orders respectively\n",
        "broworder = a.flatten(order='C')\n",
        "bcolorder = a.flatten(order='F')\n",
        "\n",
        "print(f\"\\nflatten a by row (c-style); \\n {broworder}\")\n",
        "print(f\"\\nflatten a by column (fortran-style); \\n {bcolorder}\")\n",
        "\n",
        "# restore the original array from flattened arrays\n",
        "\n",
        "crow = np.reshape(broworder, newshape = ashape, order = 'C')\n",
        "ccol = np.reshape(bcolorder, newshape = ashape, order = 'F')\n",
        "\n",
        "print(f\"\\nrestore a from broworder by row (c-style); \\n {crow}\")\n",
        "print(f\"\\nrestopre a from bcolorder by column (fortran-style); \\n {ccol}\")"
      ],
      "metadata": {
        "colab": {
          "base_uri": "https://localhost:8080/"
        },
        "id": "XV45HG1aLZ3b",
        "outputId": "103e9fb4-99eb-44b7-f2ff-eed154c9d584"
      },
      "execution_count": 22,
      "outputs": [
        {
          "output_type": "stream",
          "name": "stdout",
          "text": [
            "original a:\n",
            " [[[-0.40302699 -0.85880326 -0.32470971]\n",
            "  [-0.90480572 -0.14246673  0.91024028]\n",
            "  [ 0.78117461 -0.30083988 -0.5056109 ]]\n",
            "\n",
            " [[-0.38703013 -0.96567864  0.25073122]\n",
            "  [ 0.01989169  0.99041451 -0.22785672]\n",
            "  [ 0.83334238 -0.99844754 -0.85434489]]\n",
            "\n",
            " [[ 0.66643914 -0.60391865 -0.4933494 ]\n",
            "  [ 0.88903308  0.94112035 -0.08617802]\n",
            "  [ 0.51622226 -0.77290638  0.96178995]]]\n",
            "\n",
            "flatten a by row (c-style); \n",
            " [-0.40302699 -0.85880326 -0.32470971 -0.90480572 -0.14246673  0.91024028\n",
            "  0.78117461 -0.30083988 -0.5056109  -0.38703013 -0.96567864  0.25073122\n",
            "  0.01989169  0.99041451 -0.22785672  0.83334238 -0.99844754 -0.85434489\n",
            "  0.66643914 -0.60391865 -0.4933494   0.88903308  0.94112035 -0.08617802\n",
            "  0.51622226 -0.77290638  0.96178995]\n",
            "\n",
            "flatten a by column (fortran-style); \n",
            " [-0.40302699 -0.38703013  0.66643914 -0.90480572  0.01989169  0.88903308\n",
            "  0.78117461  0.83334238  0.51622226 -0.85880326 -0.96567864 -0.60391865\n",
            " -0.14246673  0.99041451  0.94112035 -0.30083988 -0.99844754 -0.77290638\n",
            " -0.32470971  0.25073122 -0.4933494   0.91024028 -0.22785672 -0.08617802\n",
            " -0.5056109  -0.85434489  0.96178995]\n",
            "\n",
            "restore a from broworder by row (c-style); \n",
            " [[[-0.40302699 -0.85880326 -0.32470971]\n",
            "  [-0.90480572 -0.14246673  0.91024028]\n",
            "  [ 0.78117461 -0.30083988 -0.5056109 ]]\n",
            "\n",
            " [[-0.38703013 -0.96567864  0.25073122]\n",
            "  [ 0.01989169  0.99041451 -0.22785672]\n",
            "  [ 0.83334238 -0.99844754 -0.85434489]]\n",
            "\n",
            " [[ 0.66643914 -0.60391865 -0.4933494 ]\n",
            "  [ 0.88903308  0.94112035 -0.08617802]\n",
            "  [ 0.51622226 -0.77290638  0.96178995]]]\n",
            "\n",
            "restopre a from bcolorder by column (fortran-style); \n",
            " [[[-0.40302699 -0.85880326 -0.32470971]\n",
            "  [-0.90480572 -0.14246673  0.91024028]\n",
            "  [ 0.78117461 -0.30083988 -0.5056109 ]]\n",
            "\n",
            " [[-0.38703013 -0.96567864  0.25073122]\n",
            "  [ 0.01989169  0.99041451 -0.22785672]\n",
            "  [ 0.83334238 -0.99844754 -0.85434489]]\n",
            "\n",
            " [[ 0.66643914 -0.60391865 -0.4933494 ]\n",
            "  [ 0.88903308  0.94112035 -0.08617802]\n",
            "  [ 0.51622226 -0.77290638  0.96178995]]]\n"
          ]
        }
      ]
    },
    {
      "cell_type": "markdown",
      "source": [
        "Numpy arrays can be mutated by assignment to the indexed array elements. This is helpful as generally you don't want to be making copies of large arrays just to change a few elements;."
      ],
      "metadata": {
        "id": "VOozskBqKyT9"
      }
    },
    {
      "cell_type": "code",
      "source": [
        "# mutate an individual element or a slice of an array\n",
        "a = np.ones(shape = [2,2])\n",
        "print(f\"initial a: \\n {a}\")\n",
        "\n",
        "a[:, 0] = 0\n",
        "a[1,1] = 2\n",
        "print(f\"after assignment a \\n {a}\")"
      ],
      "metadata": {
        "colab": {
          "base_uri": "https://localhost:8080/"
        },
        "id": "GAEdWFZ3DvjG",
        "outputId": "6aa834cb-c20f-4591-ea3d-195747c639a2"
      },
      "execution_count": 12,
      "outputs": [
        {
          "output_type": "stream",
          "name": "stdout",
          "text": [
            "initial a: \n",
            " [[1. 1.]\n",
            " [1. 1.]]\n",
            "after assignment a \n",
            " [[0. 1.]\n",
            " [0. 2.]]\n"
          ]
        }
      ]
    },
    {
      "cell_type": "markdown",
      "source": [
        "\n",
        "Some array operations can be surprising: for example a = a + b and a += b seem to be identical but the first returns a new array while the second returns the mutated array."
      ],
      "metadata": {
        "id": "CdQqLA6AJdU4"
      }
    },
    {
      "cell_type": "code",
      "source": [
        "# follow the behavior of c which is original array a \n",
        "\n",
        "# a = a + b does no mutates the contents of the original a\n",
        "a = np.ones(shape=[2,2])\n",
        "b = np.full_like(a, 2)\n",
        "c = a\n",
        "\n",
        "a = a + b\n",
        "print(\"/n unmutated case\")\n",
        "print(f\"a = a+b: \\n {a}\")\n",
        "print (f\"c: \\n {c}\")\n",
        "\n",
        "# a += b mutates the contents of the original a\n",
        "a = np.ones(shape=[2,2])\n",
        "b = np.full_like(a, 2)\n",
        "c = a\n",
        "\n",
        "a += b\n",
        "print(f\"a += b: \\n {a}\")\n",
        "print (f\"c: \\n {c}\")\n"
      ],
      "metadata": {
        "colab": {
          "base_uri": "https://localhost:8080/"
        },
        "id": "f1uXkLS72Auq",
        "outputId": "cae9c9cc-86b9-431f-8d50-ff2a3f033270"
      },
      "execution_count": 13,
      "outputs": [
        {
          "output_type": "stream",
          "name": "stdout",
          "text": [
            "/n unmutated case\n",
            "a = a+b: \n",
            " [[1. 1.]\n",
            " [1. 3.]]\n",
            "c: \n",
            " [[1. 1.]\n",
            " [1. 3.]]\n",
            "/n mutated case\n",
            "a += b: \n",
            " [[1. 1.]\n",
            " [1. 3.]]\n",
            "c: \n",
            " [[1. 1.]\n",
            " [1. 3.]]\n"
          ]
        }
      ]
    },
    {
      "cell_type": "markdown",
      "source": [
        "When **elementwise** array numerical operations are performed on 2 numpy arrays (e.g. array addition or array multiplication, if possible, the smaller array in the operation is often \"broadcast\" (i.e. the values are copied to a shape that is compatible with the shape of the larger array).   The rules for this broadcasting are given [here](https://numpy.org/doc/stable/user/basics.broadcasting.html) and should be reviewed carefully.\n",
        "\n",
        "Lets look at some examples of broadcasting:"
      ],
      "metadata": {
        "id": "PpoYhNwhDood"
      }
    },
    {
      "cell_type": "code",
      "source": [
        "\n",
        "# this broadcast during addition works because the dimensions of the smaller array are compatible\n",
        "a = np.ones(shape=[2,2])\n",
        "b = np.array([5,6])\n",
        "\n",
        "c = a + b\n",
        "d = a*b\n",
        "\n",
        "print(\"/n addition example: note how b is copied along the second axis to be compatible with a\")\n",
        "print(f\"a: \\n {a}\")\n",
        "print (f\"b: \\n {b}\")\n",
        "print (f\"c = a + b: \\n {c}\")\n",
        "print (f\"c = a * b: \\n {d}\")\n",
        "\n",
        "# this example will throw an error as the dimensions of the smaller array are not compatible\n",
        "a = np.ones(shape=[2,2])\n",
        "b = np.array([5,6, 7])\n",
        "print(\"/n addition example: in this case b cannot be copied along the second axis to be compatible with a\")\n",
        "print(f\"a: \\n {a}\")\n",
        "print (f\"b: \\n {b}\")\n",
        "try :\n",
        "  c = a + b\n",
        "except:\n",
        "  print(f\"\\nthrows an exception since the dimensions of a: {a.shape} and b: {b.shape} are incompatible\")\n",
        "\n",
        "\n"
      ],
      "metadata": {
        "colab": {
          "base_uri": "https://localhost:8080/"
        },
        "id": "RmZe9MPnVN4O",
        "outputId": "9da1b649-4a1b-410f-d6f4-ddc917b083dc"
      },
      "execution_count": 34,
      "outputs": [
        {
          "output_type": "stream",
          "name": "stdout",
          "text": [
            "/n addition example: note how b is copied along the second axis to be compatible with a\n",
            "a: \n",
            " [[1. 1.]\n",
            " [1. 1.]]\n",
            "b: \n",
            " [5 6]\n",
            "c = a + b: \n",
            " [[6. 7.]\n",
            " [6. 7.]]\n",
            "c = a * b: \n",
            " [[5. 6.]\n",
            " [5. 6.]]\n",
            "/n addition example: in this case b cannot be copied along the second axis to be compatible with a\n",
            "a: \n",
            " [[1. 1.]\n",
            " [1. 1.]]\n",
            "b: \n",
            " [5 6 7]\n",
            "\n",
            "throws an exception since the dimensions of a: (2, 2) and b: (3,) are incompatible\n"
          ]
        }
      ]
    }
  ]
}