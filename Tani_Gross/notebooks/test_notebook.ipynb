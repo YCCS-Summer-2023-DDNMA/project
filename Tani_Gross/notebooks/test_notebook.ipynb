{
 "cells": [
  {
   "cell_type": "code",
   "execution_count": 4,
   "metadata": {},
   "outputs": [
    {
     "name": "stdout",
     "output_type": "stream",
     "text": [
      "Python 3.10.8\n"
     ]
    }
   ],
   "source": [
    "!python --version"
   ]
  },
  {
   "cell_type": "code",
   "execution_count": 10,
   "metadata": {},
   "outputs": [
    {
     "name": "stdout",
     "output_type": "stream",
     "text": [
      "Hello, World!\n"
     ]
    }
   ],
   "source": [
    "print(\"Hello, World!\")\n",
    "\n",
    "def lowest(lst:list):\n",
    "    lowest = lst[0]\n",
    "    for num in lst:\n",
    "        if num < lowest:\n",
    "            lowest = num\n",
    "    return lowest\n",
    "\n",
    "def test_lowest():\n",
    "    assert lowest([1,4,3,5,6,7,8,-10]) == -10\n",
    "    assert lowest([-10,-9,10,23,4,-100]) == -100\n",
    "\n",
    "test_lowest()"
   ]
  }
 ],
 "metadata": {
  "kernelspec": {
   "display_name": "Python 3",
   "language": "python",
   "name": "python3"
  },
  "language_info": {
   "codemirror_mode": {
    "name": "ipython",
    "version": 3
   },
   "file_extension": ".py",
   "mimetype": "text/x-python",
   "name": "python",
   "nbconvert_exporter": "python",
   "pygments_lexer": "ipython3",
   "version": "3.10.8"
  },
  "orig_nbformat": 4
 },
 "nbformat": 4,
 "nbformat_minor": 2
}
