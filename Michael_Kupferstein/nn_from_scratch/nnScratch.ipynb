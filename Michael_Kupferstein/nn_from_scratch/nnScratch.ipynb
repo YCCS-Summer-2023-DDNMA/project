{
  "nbformat": 4,
  "nbformat_minor": 0,
  "metadata": {
    "colab": {
      "provenance": [],
      "authorship_tag": "ABX9TyPhchj4YiNhI0yGd6tQOX94",
      "include_colab_link": true
    },
    "kernelspec": {
      "name": "python3",
      "display_name": "Python 3"
    },
    "language_info": {
      "name": "python"
    }
  },
  "cells": [
    {
      "cell_type": "markdown",
      "metadata": {
        "id": "view-in-github",
        "colab_type": "text"
      },
      "source": [
        "<a href=\"https://colab.research.google.com/github/YCCS-Summer-2023-DDNMA/project/blob/80-practice-with-neural-networks-mk/Michael_Kupferstein/nn_from_scratch/nnScratch.ipynb\" target=\"_parent\"><img src=\"https://colab.research.google.com/assets/colab-badge.svg\" alt=\"Open In Colab\"/></a>"
      ]
    },
    {
      "cell_type": "markdown",
      "source": [
        "# MLP training on MNIST"
      ],
      "metadata": {
        "id": "bTQFQqswQiNX"
      }
    },
    {
      "cell_type": "code",
      "source": [
        "import numpy as np\n",
        "import jax.numpy as jnp\n",
        "from jax.scipy.special import logsumexp\n",
        "import jax\n",
        "from jax import jit,vmap,pmap,grad,value_and_grad\n",
        "\n",
        "from torchvision.datasets import MNIST\n",
        "from torch.utils.data import DataLoader"
      ],
      "metadata": {
        "id": "FgzGhXHeQy5b"
      },
      "execution_count": 81,
      "outputs": []
    },
    {
      "cell_type": "code",
      "source": [
        "seed = 0\n",
        "mnist_img_size = (28,28)\n",
        "\n",
        "def init_MLP(layer_widths,parent_key,scale=0.01):\n",
        "\n",
        "  params = []\n",
        "  keys = jax.random.split(parent_key,num=len(layer_widths)-1)\n",
        "\n",
        "  for in_width,out_width,key in zip(layer_widths[:-1],layer_widths[1:],keys):\n",
        "    weight_key, bias_key = jax.random.split(key)\n",
        "    params.append([\n",
        "            scale*jax.random.normal(weight_key,shape=(out_width,in_width)),\n",
        "            scale*jax.random.normal(bias_key,shape=(out_width,))\n",
        "            ]\n",
        "    )\n",
        "\n",
        "  return params\n",
        "\n",
        "# test\n",
        "key = jax.random.PRNGKey(seed)\n",
        "MLP_params = init_MLP([784,512,256,10],key)\n",
        "print(jax.tree_map(lambda x:x.shape,MLP_params))"
      ],
      "metadata": {
        "colab": {
          "base_uri": "https://localhost:8080/"
        },
        "id": "96mBn7GqRddH",
        "outputId": "19c67efb-e1da-4a6a-c4f5-effea310cdf0"
      },
      "execution_count": 82,
      "outputs": [
        {
          "output_type": "stream",
          "name": "stdout",
          "text": [
            "[[(512, 784), (512,)], [(256, 512), (256,)], [(10, 256), (10,)]]\n"
          ]
        }
      ]
    },
    {
      "cell_type": "code",
      "source": [
        "def MLP_predict(params,x):\n",
        "  hidden_layers = params[:-1]\n",
        "\n",
        "  activation = x\n",
        "  for w,b in hidden_layers:\n",
        "    activation = jax.nn.relu(jnp.dot(w,activation) + b)\n",
        "\n",
        "  w_last,b_last = params[-1]\n",
        "  logits = jnp.dot(w_last,activation) + b_last\n",
        "\n",
        "  # log(exp(o1)) - log(sum(exp(o1),exp(o2),...exp(o10)))\n",
        "  # log(exp(o1)/ sum(...))\n",
        "  return logits - logsumexp(logits)\n",
        "\n",
        "# tests\n",
        "\n",
        "# test single example\n",
        "\n",
        "dummy_img_flat = np.random.randn(np.prod(mnist_img_size))\n",
        "print(dummy_img_flat.shape)\n",
        "\n",
        "predications = MLP_predict(MLP_params,dummy_img_flat)\n",
        "print(predications.shape)\n",
        "\n",
        "# test batched function\n",
        "batched_MLP_predict = vmap(MLP_predict,in_axes=(None,0))\n",
        "\n",
        "dummy_imgs_flat = np.random.randn(16, np.prod(mnist_img_size))\n",
        "print(dummy_imgs_flat.shape)\n",
        "predications = batched_MLP_predict(MLP_params, dummy_imgs_flat)\n",
        "print(predications.shape)"
      ],
      "metadata": {
        "colab": {
          "base_uri": "https://localhost:8080/"
        },
        "id": "WSvxZNH-VSd2",
        "outputId": "0c31bf75-0b68-4d81-e444-48b05fc6ba8d"
      },
      "execution_count": 83,
      "outputs": [
        {
          "output_type": "stream",
          "name": "stdout",
          "text": [
            "(784,)\n",
            "(10,)\n",
            "(16, 784)\n",
            "(16, 10)\n"
          ]
        }
      ]
    },
    {
      "cell_type": "code",
      "source": [
        "def custom_transform(x):\n",
        "  return np.ravel(np.array(x,dtype=np.float32))\n",
        "\n",
        "def custom_collate_fn(batch):\n",
        "  transposed_data = list(zip(*batch))\n",
        "\n",
        "  labels = np.array(transposed_data[1])\n",
        "  imgs = np.stack(transposed_data[0])\n",
        "\n",
        "  return imgs, labels\n",
        "\n",
        "batch_size = 128\n",
        "train_dataset = MNIST(root='train_mnist',train=True,download=True,transform=custom_transform)\n",
        "test_dataset = MNIST(root='test_mnist',train=False,download=True,transform=custom_transform)\n",
        "\n",
        "train_loader = DataLoader(train_dataset, batch_size, shuffle=True, collate_fn=custom_collate_fn,drop_last=True)\n",
        "test_loader = DataLoader(test_dataset, batch_size, shuffle=False, collate_fn=custom_collate_fn,drop_last=True)\n",
        "\n",
        "# test\n",
        "batch_data = next(iter(train_loader))\n",
        "imgs = batch_data[0]\n",
        "lbls = batch_data[1]\n",
        "print(imgs.shape,imgs[0].dtype,lbls.shape,lbls[0].dtype)\n",
        "\n",
        "# optimization - load the whole dataset into memory\n",
        "train_images = jnp.array(train_dataset.data).reshape(len(train_dataset),-1)\n",
        "train_lbls = jnp.array(train_dataset.targets)\n",
        "\n",
        "test_images = jnp.array(test_dataset.data).reshape(len(test_dataset),-1)\n",
        "test_lbls = jnp.array(test_dataset.targets)"
      ],
      "metadata": {
        "colab": {
          "base_uri": "https://localhost:8080/"
        },
        "id": "C7P3eOWubN8p",
        "outputId": "362d5496-20f9-4e66-fe33-efccd1a8c617"
      },
      "execution_count": 84,
      "outputs": [
        {
          "output_type": "stream",
          "name": "stdout",
          "text": [
            "(128, 784) float32 (128,) int64\n"
          ]
        }
      ]
    },
    {
      "cell_type": "code",
      "source": [
        "num_epochs = 5\n",
        "\n",
        "def loss_fn(params,imgs,gt_lbls):\n",
        "  predictions = batched_MLP_predict(params,imgs) # (b,10)\n",
        "\n",
        "  return -jnp.mean(predictions * gt_lbls)\n",
        "\n",
        "def accuracy(params,dataset_imgs,dataset_lbls):\n",
        "  pred_classes = jnp.argmax(batched_MLP_predict(params,dataset_imgs),axis=1)\n",
        "  return jnp.mean(dataset_lbls == pred_classes)\n",
        "\n",
        "@jit\n",
        "def update(params,imgs,gt_lbls,lr=0.01):\n",
        "  loss, grads = value_and_grad(loss_fn)(params,imgs,gt_lbls)\n",
        "\n",
        "  return loss, jax.tree_map(lambda p,g: p-lr*g,params,grads)\n",
        "\n",
        "# Create a MLP\n",
        "MLP_params = init_MLP([np.prod(mnist_img_size),512,256,len(MNIST.classes)],key)\n",
        "\n",
        "for epoch in range(num_epochs):\n",
        "\n",
        "  for cnt,(imgs,lbls) in enumerate(train_loader):\n",
        "\n",
        "    gt_labels = jax.nn.one_hot(lbls,len(MNIST.classes))\n",
        "\n",
        "    loss, MLP_params = update(MLP_params,imgs,gt_labels)\n",
        "\n",
        "    if cnt % 50 == 0:\n",
        "      print(loss)\n",
        "\n",
        "  print(f'Epoch {epoch},train acc={accuracy(MLP_params,train_images,train_lbls)} test acc={accuracy(MLP_params,test_images,test_lbls)}')"
      ],
      "metadata": {
        "id": "N0p_Ec0_gzst"
      },
      "execution_count": null,
      "outputs": []
    },
    {
      "cell_type": "code",
      "source": [
        "imgs,lbls = next(iter(test_loader))\n",
        "img = imgs[0].reshape(mnist_img_size)\n",
        "gt_lbl = lbls[0]\n",
        "print(img.shape)\n",
        "\n",
        "import matplotlib.pyplot as plt\n",
        "\n",
        "pred = jnp.argmax(MLP_predict(MLP_params,np.ravel(img)))\n",
        "print('pred',pred)\n",
        "print('gt',gt_lbl)\n",
        "\n",
        "plt.imshow(img); plt.show()"
      ],
      "metadata": {
        "colab": {
          "base_uri": "https://localhost:8080/",
          "height": 482
        },
        "id": "4MXi0lN_qmvg",
        "outputId": "588eb602-b666-4c36-dce4-e2cd1a4bdd6c"
      },
      "execution_count": 86,
      "outputs": [
        {
          "output_type": "stream",
          "name": "stdout",
          "text": [
            "(28, 28)\n",
            "pred 7\n",
            "gt 7\n"
          ]
        },
        {
          "output_type": "display_data",
          "data": {
            "text/plain": [
              "<Figure size 640x480 with 1 Axes>"
            ],
            "image/png": "[encoded data removed]"
          },
          "metadata": {}
        }
      ]
    },
    {
      "cell_type": "markdown",
      "source": [
        "# Visualizations"
      ],
      "metadata": {
        "id": "GB_l3OrWQmmg"
      }
    },
    {
      "cell_type": "code",
      "source": [
        "# todo: visulaize emedding using t-SNE\n",
        "# todo: dead neurons"
      ],
      "metadata": {
        "id": "odnUXKDyRQxN"
      },
      "execution_count": null,
      "outputs": []
    },
    {
      "cell_type": "code",
      "source": [
        "w = MLP_params[0][0]\n",
        "print(w.shape)\n",
        "\n",
        "w_single = w[0,:].reshape(mnist_img_size)\n",
        "print(w_single.shape)\n",
        "plt.imshow(w_single); plt.show()"
      ],
      "metadata": {
        "colab": {
          "base_uri": "https://localhost:8080/",
          "height": 465
        },
        "id": "GdDlElbbuWj9",
        "outputId": "acb44a17-169e-40ea-fc6a-d44749027a24"
      },
      "execution_count": 91,
      "outputs": [
        {
          "output_type": "stream",
          "name": "stdout",
          "text": [
            "(512, 784)\n",
            "(28, 28)\n"
          ]
        },
        {
          "output_type": "display_data",
          "data": {
            "text/plain": [
              "<Figure size 640x480 with 1 Axes>"
            ],
            "image/png": "[encoded data removed]"
          },
          "metadata": {}
        }
      ]
    },
    {
      "cell_type": "markdown",
      "source": [
        "# Parallelization"
      ],
      "metadata": {
        "id": "4SU6Ax2HQpVp"
      }
    }
  ]
}