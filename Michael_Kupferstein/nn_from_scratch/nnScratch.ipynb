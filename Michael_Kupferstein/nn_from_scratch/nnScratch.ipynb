{
  "nbformat": 4,
  "nbformat_minor": 0,
  "metadata": {
    "colab": {
      "provenance": [],
      "authorship_tag": "ABX9TyPVEtLn8BChmzcou7VQcNy3",
      "include_colab_link": true
    },
    "kernelspec": {
      "name": "python3",
      "display_name": "Python 3"
    },
    "language_info": {
      "name": "python"
    }
  },
  "cells": [
    {
      "cell_type": "markdown",
      "metadata": {
        "id": "view-in-github",
        "colab_type": "text"
      },
      "source": [
        "<a href=\"https://colab.research.google.com/github/YCCS-Summer-2023-DDNMA/project/blob/80-practice-with-neural-networks-mk/Michael_Kupferstein/nn_from_scratch/nnScratch.ipynb\" target=\"_parent\"><img src=\"https://colab.research.google.com/assets/colab-badge.svg\" alt=\"Open In Colab\"/></a>"
      ]
    },
    {
      "cell_type": "markdown",
      "source": [
        "# MLP training on MNIST"
      ],
      "metadata": {
        "id": "bTQFQqswQiNX"
      }
    },
    {
      "cell_type": "code",
      "source": [
        "# todo: init MPL and add the predict\n",
        "# todo: add data loading in PyTorch\n",
        "# todo: add the training loop, loss fn"
      ],
      "metadata": {
        "id": "FgzGhXHeQy5b"
      },
      "execution_count": null,
      "outputs": []
    },
    {
      "cell_type": "code",
      "source": [],
      "metadata": {
        "id": "96mBn7GqRddH"
      },
      "execution_count": null,
      "outputs": []
    },
    {
      "cell_type": "markdown",
      "source": [
        "# Visualizations"
      ],
      "metadata": {
        "id": "GB_l3OrWQmmg"
      }
    },
    {
      "cell_type": "code",
      "source": [
        "# todo: visualize the MPL weight\n",
        "# todo: visulaize emedding using t-SNE\n",
        "# todo: dead neurons"
      ],
      "metadata": {
        "id": "odnUXKDyRQxN"
      },
      "execution_count": null,
      "outputs": []
    },
    {
      "cell_type": "markdown",
      "source": [
        "# Parallelization"
      ],
      "metadata": {
        "id": "4SU6Ax2HQpVp"
      }
    }
  ]
}