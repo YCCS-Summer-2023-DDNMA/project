{
  "nbformat": 4,
  "nbformat_minor": 0,
  "metadata": {
    "colab": {
      "provenance": [],
      "authorship_tag": "ABX9TyM4tozI4ZJQcZI1OnkF7GPD",
      "include_colab_link": true
    },
    "kernelspec": {
      "name": "python3",
      "display_name": "Python 3"
    },
    "language_info": {
      "name": "python"
    }
  },
  "cells": [
    {
      "cell_type": "markdown",
      "metadata": {
        "id": "view-in-github",
        "colab_type": "text"
      },
      "source": [
        "<a href=\"https://colab.research.google.com/github/YCCS-Summer-2023-DDNMA/project/blob/100-review-online-methods-for-a-classification-model/Abraham_Linzer/notebooks/classification_model_demo.ipynb\" target=\"_parent\"><img src=\"https://colab.research.google.com/assets/colab-badge.svg\" alt=\"Open In Colab\"/></a>"
      ]
    },
    {
      "cell_type": "code",
      "execution_count": 1,
      "metadata": {
        "id": "rUYIv1_WnJsn"
      },
      "outputs": [],
      "source": [
        "# Silence WARNING:root:The use of `check_types` is deprecated and does not have any effect.\n",
        "# https://github.com/tensorflow/probability/issues/1523\n",
        "import logging, sys, warnings, os\n",
        "\n",
        "logger = logging.getLogger()\n",
        "\n",
        "\n",
        "class CheckTypesFilter(logging.Filter):\n",
        "    def filter(self, record):\n",
        "        return \"check_types\" not in record.getMessage()\n",
        "\n",
        "\n",
        "logger.addFilter(CheckTypesFilter())\n",
        "\n",
        "# if not sys.warnoptions:\n",
        "#     warnings.simplefilter(\"ignore\")\n",
        "#     os.environ[\"PYTHONWARNINGS\"] = \"ignore\" # Also affect subprocesses"
      ]
    },
    {
      "cell_type": "code",
      "source": [
        "try:\n",
        "    from dynamax.generalized_gaussian_ssm.inference import *\n",
        "except ModuleNotFoundError:\n",
        "    print('installing dynamax')\n",
        "    %pip install -qq dynamax\n",
        "    from dynamax.generalized_gaussian_ssm.inference import *"
      ],
      "metadata": {
        "id": "fb3z1IHDnTkW"
      },
      "execution_count": 5,
      "outputs": []
    },
    {
      "cell_type": "code",
      "source": [
        "from warnings import simplefilter\n",
        "\n",
        "import matplotlib.pyplot as plt\n",
        "\n",
        "import jax\n",
        "import jax.numpy as jnp\n",
        "import jax.random as jr\n",
        "from sklearn.datasets import make_classification\n",
        "from sklearn.model_selection import cross_val_score, KFold, train_test_split\n",
        "from sklearn.linear_model import SGDClassifier\n",
        "from sklearn import preprocessing\n",
        "from sklearn.exceptions import ConvergenceWarning\n",
        "from sklearn.metrics import log_loss\n",
        "from sklearn.pipeline import Pipeline\n",
        "from sklearn.utils._testing import ignore_warnings\n",
        "from sklearn.exceptions import ConvergenceWarning"
      ],
      "metadata": {
        "id": "Gg98o3S9noJl"
      },
      "execution_count": 6,
      "outputs": []
    }
  ]
}